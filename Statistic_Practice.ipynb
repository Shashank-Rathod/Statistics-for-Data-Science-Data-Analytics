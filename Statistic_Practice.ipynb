{
 "cells": [
  {
   "cell_type": "code",
   "execution_count": 1,
   "id": "ab5cb36b",
   "metadata": {},
   "outputs": [],
   "source": [
    "import pandas as pd\n",
    "import numpy as np\n",
    "import matplotlib.pyplot as plt\n",
    "import seaborn as sns"
   ]
  },
  {
   "cell_type": "code",
   "execution_count": 2,
   "id": "a8c96cef",
   "metadata": {},
   "outputs": [
    {
     "data": {
      "text/plain": [
       "array([1, 2, 3, 4, 5, 6, 7])"
      ]
     },
     "execution_count": 2,
     "metadata": {},
     "output_type": "execute_result"
    }
   ],
   "source": [
    "array = np.array([1,2,3,4,5,6,7])\n",
    "array"
   ]
  },
  {
   "cell_type": "code",
   "execution_count": 4,
   "id": "1e620399",
   "metadata": {},
   "outputs": [
    {
     "data": {
      "text/plain": [
       "4.0"
      ]
     },
     "execution_count": 4,
     "metadata": {},
     "output_type": "execute_result"
    }
   ],
   "source": [
    "np.sum(array)/len(array)"
   ]
  },
  {
   "cell_type": "code",
   "execution_count": 5,
   "id": "5dd030a9",
   "metadata": {},
   "outputs": [
    {
     "data": {
      "text/plain": [
       "4.0"
      ]
     },
     "execution_count": 5,
     "metadata": {},
     "output_type": "execute_result"
    }
   ],
   "source": [
    "np.mean(array)"
   ]
  },
  {
   "cell_type": "code",
   "execution_count": null,
   "id": "6cb22e15",
   "metadata": {},
   "outputs": [
    {
     "name": "stderr",
     "output_type": "stream",
     "text": [
      "<>:1: SyntaxWarning: invalid escape sequence '\\S'\n",
      "<>:1: SyntaxWarning: invalid escape sequence '\\S'\n",
      "C:\\Users\\shash\\AppData\\Local\\Temp\\ipykernel_3708\\744978754.py:1: SyntaxWarning: invalid escape sequence '\\S'\n",
      "  dataset = pd.read_csv(\"D:\\Sk\\Data Scince\\Dataset\\Customer.csv\")\n"
     ]
    },
    {
     "data": {
      "text/html": [
       "<div>\n",
       "<style scoped>\n",
       "    .dataframe tbody tr th:only-of-type {\n",
       "        vertical-align: middle;\n",
       "    }\n",
       "\n",
       "    .dataframe tbody tr th {\n",
       "        vertical-align: top;\n",
       "    }\n",
       "\n",
       "    .dataframe thead th {\n",
       "        text-align: right;\n",
       "    }\n",
       "</style>\n",
       "<table border=\"1\" class=\"dataframe\">\n",
       "  <thead>\n",
       "    <tr style=\"text-align: right;\">\n",
       "      <th></th>\n",
       "      <th>CustomerID</th>\n",
       "      <th>Gender</th>\n",
       "      <th>Age</th>\n",
       "      <th>Items Purchased</th>\n",
       "      <th>Category</th>\n",
       "      <th>Purchase Amount</th>\n",
       "      <th>Shipping Type</th>\n",
       "      <th>Profession</th>\n",
       "      <th>Subscription Status</th>\n",
       "      <th>Season</th>\n",
       "      <th>Country</th>\n",
       "    </tr>\n",
       "  </thead>\n",
       "  <tbody>\n",
       "    <tr>\n",
       "      <th>0</th>\n",
       "      <td>1</td>\n",
       "      <td>Male</td>\n",
       "      <td>18</td>\n",
       "      <td>Blouse</td>\n",
       "      <td>Clothing</td>\n",
       "      <td>50</td>\n",
       "      <td>Express</td>\n",
       "      <td>Healthcare</td>\n",
       "      <td>Yes</td>\n",
       "      <td>Spring</td>\n",
       "      <td>United States</td>\n",
       "    </tr>\n",
       "    <tr>\n",
       "      <th>1</th>\n",
       "      <td>2</td>\n",
       "      <td>Male</td>\n",
       "      <td>20</td>\n",
       "      <td>Sweater</td>\n",
       "      <td>Clothing</td>\n",
       "      <td>25</td>\n",
       "      <td>Free Shipping</td>\n",
       "      <td>Engineer</td>\n",
       "      <td>No</td>\n",
       "      <td>Summer</td>\n",
       "      <td>United States</td>\n",
       "    </tr>\n",
       "    <tr>\n",
       "      <th>2</th>\n",
       "      <td>3</td>\n",
       "      <td>Female</td>\n",
       "      <td>35</td>\n",
       "      <td>Jeans</td>\n",
       "      <td>Clothing</td>\n",
       "      <td>15</td>\n",
       "      <td>Next Day Air</td>\n",
       "      <td>Engineer</td>\n",
       "      <td>Yes</td>\n",
       "      <td>Fall</td>\n",
       "      <td>United States</td>\n",
       "    </tr>\n",
       "    <tr>\n",
       "      <th>3</th>\n",
       "      <td>4</td>\n",
       "      <td>Female</td>\n",
       "      <td>45</td>\n",
       "      <td>Sandals</td>\n",
       "      <td>Footwear</td>\n",
       "      <td>69</td>\n",
       "      <td>2-Day Shipping</td>\n",
       "      <td>Lawyer</td>\n",
       "      <td>No</td>\n",
       "      <td>Winter</td>\n",
       "      <td>United States</td>\n",
       "    </tr>\n",
       "    <tr>\n",
       "      <th>4</th>\n",
       "      <td>5</td>\n",
       "      <td>Female</td>\n",
       "      <td>60</td>\n",
       "      <td>Blouse</td>\n",
       "      <td>Clothing</td>\n",
       "      <td>85</td>\n",
       "      <td>2-Day Shipping</td>\n",
       "      <td>Entertainment</td>\n",
       "      <td>Yes</td>\n",
       "      <td>Winter</td>\n",
       "      <td>United States</td>\n",
       "    </tr>\n",
       "    <tr>\n",
       "      <th>...</th>\n",
       "      <td>...</td>\n",
       "      <td>...</td>\n",
       "      <td>...</td>\n",
       "      <td>...</td>\n",
       "      <td>...</td>\n",
       "      <td>...</td>\n",
       "      <td>...</td>\n",
       "      <td>...</td>\n",
       "      <td>...</td>\n",
       "      <td>...</td>\n",
       "      <td>...</td>\n",
       "    </tr>\n",
       "    <tr>\n",
       "      <th>2000</th>\n",
       "      <td>1996</td>\n",
       "      <td>Female</td>\n",
       "      <td>22</td>\n",
       "      <td>Boots</td>\n",
       "      <td>Footwear</td>\n",
       "      <td>45</td>\n",
       "      <td>Express</td>\n",
       "      <td>Artist</td>\n",
       "      <td>Yes</td>\n",
       "      <td>Summer</td>\n",
       "      <td>United States</td>\n",
       "    </tr>\n",
       "    <tr>\n",
       "      <th>2001</th>\n",
       "      <td>1997</td>\n",
       "      <td>Female</td>\n",
       "      <td>22</td>\n",
       "      <td>Boots</td>\n",
       "      <td>Footwear</td>\n",
       "      <td>77</td>\n",
       "      <td>Free Shipping</td>\n",
       "      <td>Doctor</td>\n",
       "      <td>Yes</td>\n",
       "      <td>Summer</td>\n",
       "      <td>Brazil</td>\n",
       "    </tr>\n",
       "    <tr>\n",
       "      <th>2002</th>\n",
       "      <td>1998</td>\n",
       "      <td>Male</td>\n",
       "      <td>22</td>\n",
       "      <td>Boots</td>\n",
       "      <td>Footwear</td>\n",
       "      <td>50</td>\n",
       "      <td>Next Day Air</td>\n",
       "      <td>Healthcare</td>\n",
       "      <td>Yes</td>\n",
       "      <td>Summer</td>\n",
       "      <td>United States</td>\n",
       "    </tr>\n",
       "    <tr>\n",
       "      <th>2003</th>\n",
       "      <td>1999</td>\n",
       "      <td>Male</td>\n",
       "      <td>22</td>\n",
       "      <td>Boots</td>\n",
       "      <td>Footwear</td>\n",
       "      <td>25</td>\n",
       "      <td>Express</td>\n",
       "      <td>Executive</td>\n",
       "      <td>Yes</td>\n",
       "      <td>Summer</td>\n",
       "      <td>Brazil</td>\n",
       "    </tr>\n",
       "    <tr>\n",
       "      <th>2004</th>\n",
       "      <td>2000</td>\n",
       "      <td>Male</td>\n",
       "      <td>22</td>\n",
       "      <td>Boots</td>\n",
       "      <td>Footwear</td>\n",
       "      <td>15</td>\n",
       "      <td>Free Shipping</td>\n",
       "      <td>Entertainment</td>\n",
       "      <td>Yes</td>\n",
       "      <td>Summer</td>\n",
       "      <td>United States</td>\n",
       "    </tr>\n",
       "  </tbody>\n",
       "</table>\n",
       "<p>2005 rows × 11 columns</p>\n",
       "</div>"
      ],
      "text/plain": [
       "      CustomerID  Gender  Age Items Purchased  Category  Purchase Amount  \\\n",
       "0              1    Male   18          Blouse  Clothing               50   \n",
       "1              2    Male   20         Sweater  Clothing               25   \n",
       "2              3  Female   35           Jeans  Clothing               15   \n",
       "3              4  Female   45         Sandals  Footwear               69   \n",
       "4              5  Female   60          Blouse  Clothing               85   \n",
       "...          ...     ...  ...             ...       ...              ...   \n",
       "2000        1996  Female   22           Boots  Footwear               45   \n",
       "2001        1997  Female   22           Boots  Footwear               77   \n",
       "2002        1998    Male   22           Boots  Footwear               50   \n",
       "2003        1999    Male   22           Boots  Footwear               25   \n",
       "2004        2000    Male   22           Boots  Footwear               15   \n",
       "\n",
       "       Shipping Type     Profession Subscription Status  Season        Country  \n",
       "0            Express     Healthcare                 Yes  Spring  United States  \n",
       "1      Free Shipping       Engineer                  No  Summer  United States  \n",
       "2       Next Day Air       Engineer                 Yes    Fall  United States  \n",
       "3     2-Day Shipping         Lawyer                  No  Winter  United States  \n",
       "4     2-Day Shipping  Entertainment                 Yes  Winter  United States  \n",
       "...              ...            ...                 ...     ...            ...  \n",
       "2000         Express         Artist                 Yes  Summer  United States  \n",
       "2001   Free Shipping         Doctor                 Yes  Summer         Brazil  \n",
       "2002    Next Day Air     Healthcare                 Yes  Summer  United States  \n",
       "2003         Express      Executive                 Yes  Summer         Brazil  \n",
       "2004   Free Shipping  Entertainment                 Yes  Summer  United States  \n",
       "\n",
       "[2005 rows x 11 columns]"
      ]
     },
     "execution_count": 6,
     "metadata": {},
     "output_type": "execute_result"
    }
   ],
   "source": [
    "dataset = pd.read_csv(\"D:\\Sk\\Data Scince\\Dataset\\Customer.csv\")\n",
    "dataset"
   ]
  },
  {
   "cell_type": "code",
   "execution_count": 7,
   "id": "1fefa5dc",
   "metadata": {},
   "outputs": [
    {
     "data": {
      "text/plain": [
       "29.428927680798004"
      ]
     },
     "execution_count": 7,
     "metadata": {},
     "output_type": "execute_result"
    }
   ],
   "source": [
    "dataset['Age'].mean()"
   ]
  },
  {
   "cell_type": "code",
   "execution_count": 13,
   "id": "5fd8c52b",
   "metadata": {},
   "outputs": [],
   "source": [
    "mn = np.mean(dataset['Age'])"
   ]
  },
  {
   "cell_type": "code",
   "execution_count": 32,
   "id": "9e202527",
   "metadata": {},
   "outputs": [
    {
     "data": {
      "text/plain": [
       "22.0"
      ]
     },
     "execution_count": 32,
     "metadata": {},
     "output_type": "execute_result"
    }
   ],
   "source": [
    "md = np.median(dataset['Age'])\n",
    "md"
   ]
  },
  {
   "cell_type": "code",
   "execution_count": 31,
   "id": "a101293c",
   "metadata": {},
   "outputs": [
    {
     "data": {
      "text/plain": [
       "22"
      ]
     },
     "execution_count": 31,
     "metadata": {},
     "output_type": "execute_result"
    }
   ],
   "source": [
    "mo = dataset['Age'].mode()[0]\n",
    "mo"
   ]
  },
  {
   "cell_type": "code",
   "execution_count": 30,
   "id": "0822ca53",
   "metadata": {},
   "outputs": [
    {
     "data": {
      "image/png": "[encoded data removed]",
      "text/plain": [
       "<Figure size 640x480 with 1 Axes>"
      ]
     },
     "metadata": {},
     "output_type": "display_data"
    }
   ],
   "source": [
    "sns.histplot(x = 'Age', data = dataset, bins =[ i for i in range(0,80,10)])\n",
    "plt.plot([mn for i in range (0,1400)], [i for i in range(0,1400)], c = 'red')\n",
    "plt.plot([md for i in range (0,1400)], [i for i in range(0,1400)], c = 'blue')\n",
    "plt.plot([mo for i in range (0,1400)], [i for i in range(0,1400)], c = 'green')\n",
    "plt.show()"
   ]
  },
  {
   "cell_type": "code",
   "execution_count": null,
   "id": "ce9418c6",
   "metadata": {},
   "outputs": [],
   "source": []
  },
  {
   "cell_type": "code",
   "execution_count": 24,
   "id": "bf33f7f5",
   "metadata": {},
   "outputs": [
    {
     "data": {
      "text/plain": [
       "Age\n",
       "22    1230\n",
       "55     222\n",
       "33     121\n",
       "60      82\n",
       "25      39\n",
       "18      30\n",
       "19      30\n",
       "32      24\n",
       "36      22\n",
       "23      19\n",
       "24      17\n",
       "28      15\n",
       "26      14\n",
       "27      13\n",
       "21      12\n",
       "38      12\n",
       "35      10\n",
       "39      10\n",
       "42       7\n",
       "74       6\n",
       "34       6\n",
       "45       6\n",
       "29       6\n",
       "51       6\n",
       "68       6\n",
       "20       6\n",
       "53       6\n",
       "48       6\n",
       "47       6\n",
       "46       5\n",
       "43       5\n",
       "37       2\n",
       "30       2\n",
       "31       2\n",
       "Name: count, dtype: int64"
      ]
     },
     "execution_count": 24,
     "metadata": {},
     "output_type": "execute_result"
    }
   ],
   "source": [
    "dataset['Age'].value_counts()"
   ]
  },
  {
   "cell_type": "markdown",
   "id": "d407efd7",
   "metadata": {},
   "source": [
    "Range"
   ]
  },
  {
   "cell_type": "code",
   "execution_count": 33,
   "id": "4ae74359",
   "metadata": {},
   "outputs": [
    {
     "name": "stderr",
     "output_type": "stream",
     "text": [
      "<>:1: SyntaxWarning: invalid escape sequence '\\S'\n",
      "<>:1: SyntaxWarning: invalid escape sequence '\\S'\n",
      "C:\\Users\\shash\\AppData\\Local\\Temp\\ipykernel_3708\\744978754.py:1: SyntaxWarning: invalid escape sequence '\\S'\n",
      "  dataset = pd.read_csv(\"D:\\Sk\\Data Scince\\Dataset\\Customer.csv\")\n"
     ]
    },
    {
     "data": {
      "text/html": [
       "<div>\n",
       "<style scoped>\n",
       "    .dataframe tbody tr th:only-of-type {\n",
       "        vertical-align: middle;\n",
       "    }\n",
       "\n",
       "    .dataframe tbody tr th {\n",
       "        vertical-align: top;\n",
       "    }\n",
       "\n",
       "    .dataframe thead th {\n",
       "        text-align: right;\n",
       "    }\n",
       "</style>\n",
       "<table border=\"1\" class=\"dataframe\">\n",
       "  <thead>\n",
       "    <tr style=\"text-align: right;\">\n",
       "      <th></th>\n",
       "      <th>CustomerID</th>\n",
       "      <th>Gender</th>\n",
       "      <th>Age</th>\n",
       "      <th>Items Purchased</th>\n",
       "      <th>Category</th>\n",
       "      <th>Purchase Amount</th>\n",
       "      <th>Shipping Type</th>\n",
       "      <th>Profession</th>\n",
       "      <th>Subscription Status</th>\n",
       "      <th>Season</th>\n",
       "      <th>Country</th>\n",
       "    </tr>\n",
       "  </thead>\n",
       "  <tbody>\n",
       "    <tr>\n",
       "      <th>0</th>\n",
       "      <td>1</td>\n",
       "      <td>Male</td>\n",
       "      <td>18</td>\n",
       "      <td>Blouse</td>\n",
       "      <td>Clothing</td>\n",
       "      <td>50</td>\n",
       "      <td>Express</td>\n",
       "      <td>Healthcare</td>\n",
       "      <td>Yes</td>\n",
       "      <td>Spring</td>\n",
       "      <td>United States</td>\n",
       "    </tr>\n",
       "    <tr>\n",
       "      <th>1</th>\n",
       "      <td>2</td>\n",
       "      <td>Male</td>\n",
       "      <td>20</td>\n",
       "      <td>Sweater</td>\n",
       "      <td>Clothing</td>\n",
       "      <td>25</td>\n",
       "      <td>Free Shipping</td>\n",
       "      <td>Engineer</td>\n",
       "      <td>No</td>\n",
       "      <td>Summer</td>\n",
       "      <td>United States</td>\n",
       "    </tr>\n",
       "    <tr>\n",
       "      <th>2</th>\n",
       "      <td>3</td>\n",
       "      <td>Female</td>\n",
       "      <td>35</td>\n",
       "      <td>Jeans</td>\n",
       "      <td>Clothing</td>\n",
       "      <td>15</td>\n",
       "      <td>Next Day Air</td>\n",
       "      <td>Engineer</td>\n",
       "      <td>Yes</td>\n",
       "      <td>Fall</td>\n",
       "      <td>United States</td>\n",
       "    </tr>\n",
       "    <tr>\n",
       "      <th>3</th>\n",
       "      <td>4</td>\n",
       "      <td>Female</td>\n",
       "      <td>45</td>\n",
       "      <td>Sandals</td>\n",
       "      <td>Footwear</td>\n",
       "      <td>69</td>\n",
       "      <td>2-Day Shipping</td>\n",
       "      <td>Lawyer</td>\n",
       "      <td>No</td>\n",
       "      <td>Winter</td>\n",
       "      <td>United States</td>\n",
       "    </tr>\n",
       "    <tr>\n",
       "      <th>4</th>\n",
       "      <td>5</td>\n",
       "      <td>Female</td>\n",
       "      <td>60</td>\n",
       "      <td>Blouse</td>\n",
       "      <td>Clothing</td>\n",
       "      <td>85</td>\n",
       "      <td>2-Day Shipping</td>\n",
       "      <td>Entertainment</td>\n",
       "      <td>Yes</td>\n",
       "      <td>Winter</td>\n",
       "      <td>United States</td>\n",
       "    </tr>\n",
       "    <tr>\n",
       "      <th>...</th>\n",
       "      <td>...</td>\n",
       "      <td>...</td>\n",
       "      <td>...</td>\n",
       "      <td>...</td>\n",
       "      <td>...</td>\n",
       "      <td>...</td>\n",
       "      <td>...</td>\n",
       "      <td>...</td>\n",
       "      <td>...</td>\n",
       "      <td>...</td>\n",
       "      <td>...</td>\n",
       "    </tr>\n",
       "    <tr>\n",
       "      <th>2000</th>\n",
       "      <td>1996</td>\n",
       "      <td>Female</td>\n",
       "      <td>22</td>\n",
       "      <td>Boots</td>\n",
       "      <td>Footwear</td>\n",
       "      <td>45</td>\n",
       "      <td>Express</td>\n",
       "      <td>Artist</td>\n",
       "      <td>Yes</td>\n",
       "      <td>Summer</td>\n",
       "      <td>United States</td>\n",
       "    </tr>\n",
       "    <tr>\n",
       "      <th>2001</th>\n",
       "      <td>1997</td>\n",
       "      <td>Female</td>\n",
       "      <td>22</td>\n",
       "      <td>Boots</td>\n",
       "      <td>Footwear</td>\n",
       "      <td>77</td>\n",
       "      <td>Free Shipping</td>\n",
       "      <td>Doctor</td>\n",
       "      <td>Yes</td>\n",
       "      <td>Summer</td>\n",
       "      <td>Brazil</td>\n",
       "    </tr>\n",
       "    <tr>\n",
       "      <th>2002</th>\n",
       "      <td>1998</td>\n",
       "      <td>Male</td>\n",
       "      <td>22</td>\n",
       "      <td>Boots</td>\n",
       "      <td>Footwear</td>\n",
       "      <td>50</td>\n",
       "      <td>Next Day Air</td>\n",
       "      <td>Healthcare</td>\n",
       "      <td>Yes</td>\n",
       "      <td>Summer</td>\n",
       "      <td>United States</td>\n",
       "    </tr>\n",
       "    <tr>\n",
       "      <th>2003</th>\n",
       "      <td>1999</td>\n",
       "      <td>Male</td>\n",
       "      <td>22</td>\n",
       "      <td>Boots</td>\n",
       "      <td>Footwear</td>\n",
       "      <td>25</td>\n",
       "      <td>Express</td>\n",
       "      <td>Executive</td>\n",
       "      <td>Yes</td>\n",
       "      <td>Summer</td>\n",
       "      <td>Brazil</td>\n",
       "    </tr>\n",
       "    <tr>\n",
       "      <th>2004</th>\n",
       "      <td>2000</td>\n",
       "      <td>Male</td>\n",
       "      <td>22</td>\n",
       "      <td>Boots</td>\n",
       "      <td>Footwear</td>\n",
       "      <td>15</td>\n",
       "      <td>Free Shipping</td>\n",
       "      <td>Entertainment</td>\n",
       "      <td>Yes</td>\n",
       "      <td>Summer</td>\n",
       "      <td>United States</td>\n",
       "    </tr>\n",
       "  </tbody>\n",
       "</table>\n",
       "<p>2005 rows × 11 columns</p>\n",
       "</div>"
      ],
      "text/plain": [
       "      CustomerID  Gender  Age Items Purchased  Category  Purchase Amount  \\\n",
       "0              1    Male   18          Blouse  Clothing               50   \n",
       "1              2    Male   20         Sweater  Clothing               25   \n",
       "2              3  Female   35           Jeans  Clothing               15   \n",
       "3              4  Female   45         Sandals  Footwear               69   \n",
       "4              5  Female   60          Blouse  Clothing               85   \n",
       "...          ...     ...  ...             ...       ...              ...   \n",
       "2000        1996  Female   22           Boots  Footwear               45   \n",
       "2001        1997  Female   22           Boots  Footwear               77   \n",
       "2002        1998    Male   22           Boots  Footwear               50   \n",
       "2003        1999    Male   22           Boots  Footwear               25   \n",
       "2004        2000    Male   22           Boots  Footwear               15   \n",
       "\n",
       "       Shipping Type     Profession Subscription Status  Season        Country  \n",
       "0            Express     Healthcare                 Yes  Spring  United States  \n",
       "1      Free Shipping       Engineer                  No  Summer  United States  \n",
       "2       Next Day Air       Engineer                 Yes    Fall  United States  \n",
       "3     2-Day Shipping         Lawyer                  No  Winter  United States  \n",
       "4     2-Day Shipping  Entertainment                 Yes  Winter  United States  \n",
       "...              ...            ...                 ...     ...            ...  \n",
       "2000         Express         Artist                 Yes  Summer  United States  \n",
       "2001   Free Shipping         Doctor                 Yes  Summer         Brazil  \n",
       "2002    Next Day Air     Healthcare                 Yes  Summer  United States  \n",
       "2003         Express      Executive                 Yes  Summer         Brazil  \n",
       "2004   Free Shipping  Entertainment                 Yes  Summer  United States  \n",
       "\n",
       "[2005 rows x 11 columns]"
      ]
     },
     "execution_count": 33,
     "metadata": {},
     "output_type": "execute_result"
    }
   ],
   "source": [
    "dataset = pd.read_csv(\"D:\\Sk\\Data Scince\\Dataset\\Customer.csv\")\n",
    "dataset"
   ]
  },
  {
   "cell_type": "code",
   "execution_count": 35,
   "id": "6b36412c",
   "metadata": {},
   "outputs": [
    {
     "data": {
      "text/plain": [
       "18"
      ]
     },
     "execution_count": 35,
     "metadata": {},
     "output_type": "execute_result"
    }
   ],
   "source": [
    "min_r = dataset['Age'].min()\n",
    "min_r"
   ]
  },
  {
   "cell_type": "code",
   "execution_count": 36,
   "id": "d2c7fddb",
   "metadata": {},
   "outputs": [
    {
     "data": {
      "text/plain": [
       "74"
      ]
     },
     "execution_count": 36,
     "metadata": {},
     "output_type": "execute_result"
    }
   ],
   "source": [
    "max_r = dataset['Age'].max()\n",
    "max_r"
   ]
  },
  {
   "cell_type": "code",
   "execution_count": 37,
   "id": "142c4633",
   "metadata": {},
   "outputs": [
    {
     "data": {
      "text/plain": [
       "56"
      ]
     },
     "execution_count": 37,
     "metadata": {},
     "output_type": "execute_result"
    }
   ],
   "source": [
    "range = max_r - min_r\n",
    "range"
   ]
  },
  {
   "cell_type": "code",
   "execution_count": null,
   "id": "ce746a94",
   "metadata": {},
   "outputs": [],
   "source": []
  }
 ],
 "metadata": {
  "kernelspec": {
   "display_name": "base",
   "language": "python",
   "name": "python3"
  },
  "language_info": {
   "codemirror_mode": {
    "name": "ipython",
    "version": 3
   },
   "file_extension": ".py",
   "mimetype": "text/x-python",
   "name": "python",
   "nbconvert_exporter": "python",
   "pygments_lexer": "ipython3",
   "version": "3.12.7"
  }
 },
 "nbformat": 4,
 "nbformat_minor": 5
}
